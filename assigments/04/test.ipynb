{
 "cells": [
  {
   "cell_type": "markdown",
   "source": [
    "# Assignment 04"
   ],
   "metadata": {
    "collapsed": false,
    "pycharm": {
     "name": "#%% md\n"
    }
   }
  },
  {
   "cell_type": "markdown",
   "source": [
    "#### 1. Data\n",
    "\n",
    "- load a set of data points $\\{ (x^{(i)}, y^{(i)}, z^{(i)}, h^{(i)}) \\}$ from the given CSV file ('data_train.csv') for training\n",
    "- load a set of data points $\\{ (x^{(i)}, y^{(i)}, z^{(i)}, h^{(i)}) \\}$ from the given CSV file ('data_test.csv') for testing\n",
    "\n"
   ],
   "metadata": {
    "collapsed": false,
    "pycharm": {
     "name": "#%% md\n"
    }
   }
  },
  {
   "cell_type": "code",
   "execution_count": 2,
   "metadata": {
    "collapsed": true,
    "pycharm": {
     "is_executing": false
    }
   },
   "outputs": [
    {
     "name": "stdout",
     "text": [
      "Data Loaded!\n"
     ],
     "output_type": "stream"
    }
   ],
   "source": [
    "import numpy as np\n",
    "import csv\n",
    "import matplotlib.pyplot as plt\n",
    "\n",
    "\n",
    "x_train = []\n",
    "y_train = []\n",
    "z_train = []\n",
    "h_train = []\n",
    "\n",
    "x_test = []\n",
    "y_test = []\n",
    "z_test = []\n",
    "h_test = []\n",
    "\n",
    "with open('data_train.csv', newline='') as myfile:\n",
    "    reader  = csv.reader(myfile, delimiter=',')\n",
    "    ct = 1 \n",
    "    for i in reader:\n",
    "        # print('[', ct, ']', 'x =', i[0], ', y = ', i[1], ', z = ', i[2], ', h = ', i[3])\n",
    "        x_train.append(float(i[0]))\n",
    "        y_train.append(float(i[1]))\n",
    "        z_train.append(float(i[2]))\n",
    "        h_train.append(float(i[3]))\n",
    "        ct += 1\n",
    "myfile.close()\n",
    "\n",
    "with open('data_test.csv', newline='') as myfile:\n",
    "    reader  = csv.reader(myfile, delimiter=',')\n",
    "    ct = 1 \n",
    "    for i in reader:\n",
    "        # print('[', ct, ']', 'x =', i[0], ', y = ', i[1], ', z = ', i[2], ', h = ', i[3])\n",
    "        x_test.append(float(i[0]))\n",
    "        y_test.append(float(i[1]))\n",
    "        z_test.append(float(i[2]))\n",
    "        h_test.append(float(i[3]))\n",
    "        ct += 1\n",
    "myfile.close()\n",
    "\n",
    "x_train = np.array(x_train)\n",
    "y_train = np.array(y_train)\n",
    "z_train = np.array(z_train)\n",
    "h_train = np.array(h_train)\n",
    "\n",
    "x_test = np.array(x_test)\n",
    "y_test = np.array(y_test)\n",
    "z_test = np.array(z_test)\n",
    "h_test = np.array(h_test)\n",
    "\n",
    "print(\"Data Loaded!\")"
   ]
  },
  {
   "cell_type": "markdown",
   "source": [
    "#### 2. Training and Testing\n"
   ],
   "metadata": {
    "collapsed": false,
    "pycharm": {
     "name": "#%% md\n"
    }
   }
  },
  {
   "cell_type": "code",
   "execution_count": 7,
   "outputs": [],
   "source": [
    "theta0 = np.random.rand() - 0.5\n",
    "theta1 = np.random.rand() - 0.5\n",
    "theta2 = np.random.rand() - 0.5\n",
    "theta3 = np.random.rand() - 0.5\n",
    "\n",
    "col_theta0 = []\n",
    "col_theta1 = []\n",
    "col_theta2 = []\n",
    "col_theta3 = []\n",
    "col_MSE = []\n",
    "col_MSE_test = []\n",
    "\n",
    "col_theta0.append(theta0)\n",
    "col_theta1.append(theta1)\n",
    "col_theta2.append(theta2)\n",
    "col_theta3.append(theta3)\n",
    "\n",
    "m = len(x_test)\n",
    "\n",
    "alpha = 0.00000001\n",
    "\n",
    "for ite in range(10000):\n",
    "    total0 = 0.\n",
    "    total1 = 0.\n",
    "    total2 = 0.\n",
    "    total3 = 0.\n",
    "    \n",
    "    for i in range(m):\n",
    "        total0 += theta0 + theta1*x_train[i] + theta2*y_train[i] + theta3*z_train[i] - h_train[i]\n",
    "        total1 += (theta0 + theta1*x_train[i] + theta2*y_train[i] + theta3*z_train[i] - h_train[i])*x_train[i]\n",
    "        total2 += (theta0 + theta1*x_train[i] + theta2*y_train[i] + theta3*z_train[i] - h_train[i])*y_train[i]\n",
    "        total3 += (theta0 + theta1*x_train[i] + theta2*y_train[i] + theta3*z_train[i] - h_train[i])*z_train[i]\n",
    "        \n",
    "    theta0 = theta0 - alpha/m*total0\n",
    "    theta1 = theta1 - alpha/m*total1\n",
    "    theta2 = theta2 - alpha/m*total2\n",
    "    theta3 = theta3 - alpha/m*total3\n",
    "    \n",
    "    col_theta0.append(theta0)\n",
    "    col_theta1.append(theta1)\n",
    "    col_theta2.append(theta2)\n",
    "    col_theta3.append(theta3)\n",
    "    \n",
    "    \n",
    "    totalMSE = 0.\n",
    "    for j in range(m):\n",
    "        totalMSE += 1/(2*m) * (theta0 + theta1*x_train[j] + theta2*y_train[j] + theta3*z_train[j] - h_train[j])**2\n",
    "    \n",
    "    col_MSE.append(totalMSE)\n",
    "    \n",
    "    totalMSE_test = 0.  \n",
    "    for k in range(m):\n",
    "        totalMSE_test += 1/(2*m) * (theta0 + theta1*x_test[k] + theta2*y_test[k] + theta3*z_test[k] - h_test[k])**2\n",
    "    \n",
    "    col_MSE_test.append(totalMSE_test)\n",
    "    "
   ],
   "metadata": {
    "collapsed": false,
    "pycharm": {
     "name": "#%%\n",
     "is_executing": false
    }
   }
  },
  {
   "cell_type": "markdown",
   "source": [
    "#### 3. Plot the estimated parameters using the training dataset\n"
   ],
   "metadata": {
    "collapsed": false,
    "pycharm": {
     "name": "#%% md\n"
    }
   }
  },
  {
   "cell_type": "code",
   "execution_count": 13,
   "outputs": [
    {
     "data": {
      "text/plain": "<Figure size 576x576 with 1 Axes>",
      "image/png": "[encoded data removed]"
     },
     "metadata": {
      "needs_background": "light"
     },
     "output_type": "display_data"
    }
   ],
   "source": [
    "\n",
    "plt.figure(figsize=(8, 8))\n",
    "plt.plot(col_theta0, 'k-', linewidth=2, markersize=5)\n",
    "plt.plot(col_theta1, 'r-', linewidth=2, markersize=5)\n",
    "plt.plot(col_theta2, 'g-', linewidth=2, markersize=5)\n",
    "plt.plot(col_theta3, 'b-', linewidth=2, markersize=5)\n",
    "plt.title('Estimated Parameters')\n",
    "plt.ylabel('$\\\\theta$')\n",
    "plt.xlabel('iterations')\n",
    "plt.grid()\n",
    "plt.legend(['$\\\\theta_0$','$\\\\theta_1$','$\\\\theta_2$','$\\\\theta_3$'])\n",
    "\n",
    "plt.show()"
   ],
   "metadata": {
    "collapsed": false,
    "pycharm": {
     "name": "#%%\n",
     "is_executing": false
    }
   }
  },
  {
   "cell_type": "markdown",
   "source": [
    "#### 4. Plot the training error using the training dataset\n"
   ],
   "metadata": {
    "collapsed": false
   }
  },
  {
   "cell_type": "code",
   "execution_count": 18,
   "outputs": [
    {
     "name": "stdout",
     "text": [
      "Training error: 610.5593\n"
     ],
     "output_type": "stream"
    },
    {
     "data": {
      "text/plain": "<Figure size 576x576 with 1 Axes>",
      "image/png": "[encoded data removed]"
     },
     "metadata": {
      "needs_background": "light"
     },
     "output_type": "display_data"
    }
   ],
   "source": [
    "print('Training error: %.4f' % totalMSE)\n",
    "\n",
    "plt.figure(figsize=(8, 8))\n",
    "plt.plot(col_MSE, 'b-', linewidth=2, markersize=5)\n",
    "plt.title('Training Error')\n",
    "plt.ylabel('$MSE$')\n",
    "plt.xlabel('iterations')\n",
    "plt.grid()\n",
    "plt.legend(['MSE'])\n",
    "\n",
    "plt.show()"
   ],
   "metadata": {
    "collapsed": false,
    "pycharm": {
     "name": "#%%\n",
     "is_executing": false
    }
   }
  },
  {
   "cell_type": "markdown",
   "source": [
    "#### 5. Plot the testing error using the testing dataset at every iteration of gradient descent until convergence\n"
   ],
   "metadata": {
    "collapsed": false
   }
  },
  {
   "cell_type": "code",
   "execution_count": 19,
   "outputs": [
    {
     "name": "stdout",
     "text": [
      "Testing error: 653.1014\n"
     ],
     "output_type": "stream"
    },
    {
     "data": {
      "text/plain": "<Figure size 576x576 with 1 Axes>",
      "image/png": "[encoded data removed]"
     },
     "metadata": {
      "needs_background": "light"
     },
     "output_type": "display_data"
    }
   ],
   "source": [
    "print('Testing error: %.4f' % totalMSE_test)\n",
    "plt.figure(figsize=(8, 8))\n",
    "plt.plot(col_MSE_test, 'r-', linewidth=2, markersize=5)\n",
    "plt.title('Testing Error')\n",
    "plt.ylabel('$MSE$')\n",
    "plt.xlabel('iterations')\n",
    "plt.grid()\n",
    "plt.legend(['MSE'])\n",
    "plt.show()\n",
    "\n",
    "\n"
   ],
   "metadata": {
    "collapsed": false,
    "pycharm": {
     "name": "#%%\n",
     "is_executing": false
    }
   }
  }
 ],
 "metadata": {
  "kernelspec": {
   "display_name": "Python 3",
   "language": "python",
   "name": "python3"
  },
  "language_info": {
   "codemirror_mode": {
    "name": "ipython",
    "version": 2
   },
   "file_extension": ".py",
   "mimetype": "text/x-python",
   "name": "python",
   "nbconvert_exporter": "python",
   "pygments_lexer": "ipython2",
   "version": "2.7.6"
  },
  "pycharm": {
   "stem_cell": {
    "cell_type": "raw",
    "source": [],
    "metadata": {
     "collapsed": false
    }
   }
  }
 },
 "nbformat": 4,
 "nbformat_minor": 0
}