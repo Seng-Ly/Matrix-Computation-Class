{
 "cells": [
  {
   "cell_type": "code",
   "execution_count": 19,
   "metadata": {
    "collapsed": true,
    "pycharm": {
     "is_executing": false
    }
   },
   "outputs": [
    {
     "data": {
      "text/plain": "<Figure size 576x576 with 1 Axes>",
      "image/png": "[encoded data removed]"
     },
     "metadata": {
      "needs_background": "light"
     },
     "output_type": "display_data"
    }
   ],
   "source": [
    "import matplotlib.pyplot as plt\n",
    "import numpy as np\n",
    "from matplotlib import cm\n",
    "\n",
    "data    = np.genfromtxt(\"data.txt\", delimiter=',')\n",
    "\n",
    "x       = data[:, 0]\n",
    "y       = data[:, 1]\n",
    "label   = data[:, 2]\n",
    "\n",
    "x_label0    = x[label == 0]\n",
    "x_label1    = x[label == 1]\n",
    "\n",
    "y_label0    = y[label == 0]\n",
    "y_label1    = y[label == 1]\n",
    "\n",
    "plt.figure(figsize=(8, 8))\n",
    "plt.scatter(x_label0, y_label0, alpha=0.3, c='b')\n",
    "plt.scatter(x_label1, y_label1, alpha=0.3, c='r')\n",
    "plt.show()"
   ]
  },
  {
   "cell_type": "code",
   "execution_count": 147,
   "outputs": [
    {
     "name": "stdout",
     "text": [
      "60.0\n"
     ],
     "output_type": "stream"
    }
   ],
   "source": [
    "print(np.sum(label))"
   ],
   "metadata": {
    "collapsed": false,
    "pycharm": {
     "name": "#%%\n",
     "is_executing": false
    }
   }
  },
  {
   "cell_type": "code",
   "execution_count": 20,
   "outputs": [],
   "source": [
    "def Sigma(z):\n",
    "    return 1.0 / (1 + np.exp(-z))\n",
    "\n",
    "def Z(x, y, theta0, theta1, theta2):\n",
    "    return theta0 + theta1*x + theta2*y\n",
    "\n",
    "    "
   ],
   "metadata": {
    "collapsed": false,
    "pycharm": {
     "name": "#%%\n",
     "is_executing": false
    }
   }
  },
  {
   "cell_type": "code",
   "execution_count": 23,
   "outputs": [
    {
     "name": "stderr",
     "text": [
      "c:\\users\\ains-sengly\\github\\venv\\lib\\site-packages\\ipykernel_launcher.py:2: RuntimeWarning: overflow encountered in exp\n",
      "  \n",
      "c:\\users\\ains-sengly\\github\\venv\\lib\\site-packages\\ipykernel_launcher.py:33: RuntimeWarning: divide by zero encountered in log\n"
     ],
     "output_type": "stream"
    },
    {
     "traceback": [
      "\u001b[1;31m---------------------------------------------------------------------------\u001b[0m",
      "\u001b[1;31mIndexError\u001b[0m                                Traceback (most recent call last)",
      "\u001b[1;32m<ipython-input-23-2cb29ce387bc>\u001b[0m in \u001b[0;36m<module>\u001b[1;34m\u001b[0m\n\u001b[0;32m     23\u001b[0m \u001b[1;33m\u001b[0m\u001b[0m\n\u001b[0;32m     24\u001b[0m     \u001b[1;32mfor\u001b[0m \u001b[0mi\u001b[0m \u001b[1;32min\u001b[0m \u001b[0mrange\u001b[0m\u001b[1;33m(\u001b[0m\u001b[0mm\u001b[0m\u001b[1;33m)\u001b[0m\u001b[1;33m:\u001b[0m\u001b[1;33m\u001b[0m\u001b[1;33m\u001b[0m\u001b[0m\n\u001b[1;32m---> 25\u001b[1;33m         \u001b[0mtotal_theta0\u001b[0m \u001b[1;33m+=\u001b[0m \u001b[0mSigma\u001b[0m\u001b[1;33m(\u001b[0m\u001b[0mZ\u001b[0m\u001b[1;33m(\u001b[0m\u001b[0mx\u001b[0m\u001b[1;33m[\u001b[0m\u001b[0mi\u001b[0m\u001b[1;33m]\u001b[0m\u001b[1;33m,\u001b[0m \u001b[0my\u001b[0m\u001b[1;33m[\u001b[0m\u001b[0mi\u001b[0m\u001b[1;33m]\u001b[0m\u001b[1;33m,\u001b[0m \u001b[0mtheta0\u001b[0m\u001b[1;33m,\u001b[0m \u001b[0mtheta1\u001b[0m\u001b[1;33m,\u001b[0m \u001b[0mtheta2\u001b[0m\u001b[1;33m)\u001b[0m\u001b[1;33m)\u001b[0m \u001b[1;33m-\u001b[0m \u001b[0mlabel\u001b[0m\u001b[1;33m[\u001b[0m\u001b[0mi\u001b[0m\u001b[1;33m]\u001b[0m\u001b[1;33m\u001b[0m\u001b[1;33m\u001b[0m\u001b[0m\n\u001b[0m\u001b[0;32m     26\u001b[0m         \u001b[0mtotal_theta1\u001b[0m \u001b[1;33m+=\u001b[0m \u001b[1;33m(\u001b[0m\u001b[0mSigma\u001b[0m\u001b[1;33m(\u001b[0m\u001b[0mZ\u001b[0m\u001b[1;33m(\u001b[0m\u001b[0mx\u001b[0m\u001b[1;33m[\u001b[0m\u001b[0mi\u001b[0m\u001b[1;33m]\u001b[0m\u001b[1;33m,\u001b[0m \u001b[0my\u001b[0m\u001b[1;33m[\u001b[0m\u001b[0mi\u001b[0m\u001b[1;33m]\u001b[0m\u001b[1;33m,\u001b[0m \u001b[0mtheta0\u001b[0m\u001b[1;33m,\u001b[0m \u001b[0mtheta1\u001b[0m\u001b[1;33m,\u001b[0m \u001b[0mtheta2\u001b[0m\u001b[1;33m)\u001b[0m\u001b[1;33m)\u001b[0m \u001b[1;33m-\u001b[0m \u001b[0mlabel\u001b[0m\u001b[1;33m[\u001b[0m\u001b[0mi\u001b[0m\u001b[1;33m]\u001b[0m\u001b[1;33m)\u001b[0m\u001b[1;33m*\u001b[0m\u001b[0mx\u001b[0m\u001b[1;33m[\u001b[0m\u001b[0mi\u001b[0m\u001b[1;33m]\u001b[0m\u001b[1;33m\u001b[0m\u001b[1;33m\u001b[0m\u001b[0m\n\u001b[0;32m     27\u001b[0m         \u001b[0mtotal_theta2\u001b[0m \u001b[1;33m+=\u001b[0m \u001b[1;33m(\u001b[0m\u001b[0mSigma\u001b[0m\u001b[1;33m(\u001b[0m\u001b[0mZ\u001b[0m\u001b[1;33m(\u001b[0m\u001b[0mx\u001b[0m\u001b[1;33m[\u001b[0m\u001b[0mi\u001b[0m\u001b[1;33m]\u001b[0m\u001b[1;33m,\u001b[0m \u001b[0my\u001b[0m\u001b[1;33m[\u001b[0m\u001b[0mi\u001b[0m\u001b[1;33m]\u001b[0m\u001b[1;33m,\u001b[0m \u001b[0mtheta0\u001b[0m\u001b[1;33m,\u001b[0m \u001b[0mtheta1\u001b[0m\u001b[1;33m,\u001b[0m \u001b[0mtheta2\u001b[0m\u001b[1;33m)\u001b[0m\u001b[1;33m)\u001b[0m \u001b[1;33m-\u001b[0m \u001b[0mlabel\u001b[0m\u001b[1;33m[\u001b[0m\u001b[0mi\u001b[0m\u001b[1;33m]\u001b[0m\u001b[1;33m)\u001b[0m\u001b[1;33m*\u001b[0m\u001b[0my\u001b[0m\u001b[1;33m[\u001b[0m\u001b[0mi\u001b[0m\u001b[1;33m]\u001b[0m\u001b[1;33m\u001b[0m\u001b[1;33m\u001b[0m\u001b[0m\n",
      "\u001b[1;31mIndexError\u001b[0m: index 100 is out of bounds for axis 0 with size 100"
     ],
     "ename": "IndexError",
     "evalue": "index 100 is out of bounds for axis 0 with size 100",
     "output_type": "error"
    }
   ],
   "source": [
    "theta0 = -1000\n",
    "theta1 = 4\n",
    "theta2 = 2\n",
    "\n",
    "col_theta0 = []\n",
    "col_theta1 = []\n",
    "col_theta2 = []\n",
    "col_J = []\n",
    "\n",
    "col_theta0.append(theta0)\n",
    "col_theta1.append(theta1)\n",
    "col_theta2.append(theta2)\n",
    "\n",
    "m = len(x)\n",
    "alpha = 0.001\n",
    "\n",
    "\n",
    "for iteration in range(10000):\n",
    "    total_theta0 = 0\n",
    "    total_theta1 = 0\n",
    "    total_theta2 = 0\n",
    "    total_J = 0\n",
    "    \n",
    "    for i in range(m):\n",
    "        total_theta0 += Sigma(Z(x[i], y[i], theta0, theta1, theta2)) - label[i]\n",
    "        total_theta1 += (Sigma(Z(x[i], y[i], theta0, theta1, theta2)) - label[i])*x[i]\n",
    "        total_theta2 += (Sigma(Z(x[i], y[i], theta0, theta1, theta2)) - label[i])*y[i]\n",
    "        \n",
    "        if label[i] == 0:\n",
    "            total_J += - np.log(1 - Sigma(Z(x[i], y[i], theta0, theta1, theta2)))/m\n",
    "             \n",
    "        if label[i] == 1:\n",
    "            total_J += - np.log(Sigma(Z(x[i], y[i], theta0, theta1, theta2)))/m\n",
    "    \n",
    "    theta0 = theta0 - alpha*total_theta0/m\n",
    "    theta1 = theta1 - alpha*total_theta1/m\n",
    "    theta2 = theta2 - alpha*total_theta2/m\n",
    "    \n",
    "    col_theta0.append(theta0)\n",
    "    col_theta1.append(theta1)\n",
    "    col_theta2.append(theta2)\n",
    "    col_J.append(total_J)\n",
    "    \n",
    "\n",
    "plt.figure(figsize=(8, 8))\n",
    "plt.plot(col_theta1)\n",
    "plt.plot(col_theta2)\n",
    "plt.show()\n",
    "\n",
    "plt.figure(figsize=(8, 8))\n",
    "plt.plot(col_theta0)\n",
    "plt.show()\n",
    "\n",
    "plt.figure(figsize=(8, 8))\n",
    "plt.plot(col_J)\n",
    "plt.show()\n",
    "\n",
    "print(total_J)\n"
   ],
   "metadata": {
    "collapsed": false,
    "pycharm": {
     "name": "#%%\n",
     "is_executing": false
    }
   }
  },
  {
   "cell_type": "code",
   "source": [
    "xx = np.linspace(30,100,1000)\n",
    "\n",
    "yy = - theta0/theta2 - theta1/theta2 * xx\n",
    "\n",
    "plt.figure(figsize=(8, 8))\n",
    "plt.scatter(x_label0, y_label0, alpha=0.3, c='b')\n",
    "plt.scatter(x_label1, y_label1, alpha=0.3, c='r')\n",
    "\n",
    "plt.plot(xx,yy)\n",
    "\n",
    "plt.show()\n"
   ],
   "metadata": {
    "collapsed": false,
    "pycharm": {
     "name": "#%%\n",
     "is_executing": false
    }
   },
   "execution_count": null,
   "outputs": []
  },
  {
   "cell_type": "code",
   "source": [
    "# def f(x,y):\n",
    "#     if x >= y: \n",
    "#         return 'g'\n",
    "#     else:\n",
    "#         return 'b'\n",
    "\n",
    "xx = np.arange(-30,30,0.1)\n",
    "yy = np.arange(-30,30,0.1)\n",
    "\n",
    "for X in xx:\n",
    "    for Y in yy:\n",
    "        Z = 100\n",
    "        \n",
    "plt.imshow(Z, interpolation='bilinear')\n",
    "plt.show()"
   ],
   "metadata": {
    "collapsed": false,
    "pycharm": {
     "name": "#%%\n",
     "is_executing": false
    }
   },
   "execution_count": null,
   "outputs": []
  },
  {
   "cell_type": "code",
   "source": [
    "\n",
    "x = y = np.linspace(20,100,100)\n",
    "\n",
    "z = []\n",
    "z1 = []\n",
    "\n",
    "for i in x:\n",
    "    for j in y:\n",
    "        if i + j > 50:\n",
    "            z.append(1)\n",
    "        else:\n",
    "            z1.append(0)\n",
    "            \n",
    "z = np.array(z)\n",
    "\n",
    "Z = z.reshape(1000, 1000)\n",
    "\n",
    "\n",
    "\n",
    "\n",
    "plt.figure(figsize=(8, 8))\n",
    "plt.imshow(Z, alpha=0.3)\n",
    "plt.scatter(x_label0, y_label0, alpha=0.3, c='b')\n",
    "plt.scatter(x_label1, y_label1, alpha=0.3, c='r')\n",
    "\n",
    "plt.xlim([30,105])\n",
    "plt.ylim([30,105])\n",
    "\n",
    "plt.show()"
   ],
   "metadata": {
    "collapsed": false,
    "pycharm": {
     "name": "#%%\n",
     "is_executing": false
    }
   },
   "execution_count": null,
   "outputs": []
  },
  {
   "cell_type": "code",
   "source": [
    "x = y = np.linspace(20,100,100)\n",
    "\n",
    "aa = [1, 2, 3]\n",
    "bb = [2, 1, 3]\n",
    "\n",
    "plt.scatter(aa,bb,c='b', alpha=0.3)\n",
    "\n",
    "aa = [3, 4, 5]\n",
    "bb = [4, 2, 4]\n",
    "\n",
    "plt.scatter(aa,bb, alpha=0.3)"
   ],
   "metadata": {
    "collapsed": false,
    "pycharm": {
     "name": "#%%\n",
     "is_executing": false
    }
   },
   "execution_count": null,
   "outputs": []
  },
  {
   "cell_type": "code",
   "execution_count": 22,
   "outputs": [
    {
     "data": {
      "text/plain": "<Figure size 720x720 with 1 Axes>",
      "image/png": "[encoded data removed]"
     },
     "metadata": {
      "needs_background": "light"
     },
     "output_type": "display_data"
    }
   ],
   "source": [
    "x = y = np.arange(30,100,0.5)\n",
    "\n",
    "X1 = []\n",
    "X2 = []\n",
    "Y1 = []\n",
    "Y2 = []\n",
    "\n",
    "for i in x:\n",
    "    for j in y:\n",
    "        if theta1*i + theta2*j + theta0 > 0:\n",
    "            X1.append(i)\n",
    "            Y1.append(j)\n",
    "        else:\n",
    "            X2.append(i)\n",
    "            Y2.append(j)\n",
    "            \n",
    "\n",
    "plt.figure(figsize=(10, 10))\n",
    "plt.scatter(X1, Y1,marker='.', alpha=0.1, c='r')\n",
    "plt.scatter(X2, Y2,marker='.', alpha=0.1, c='b')\n",
    "plt.scatter(x_label0, y_label0, c='b')\n",
    "plt.scatter(x_label1, y_label1, c='r')\n",
    "\n",
    "plt.show()\n"
   ],
   "metadata": {
    "collapsed": false,
    "pycharm": {
     "name": "#%%\n",
     "is_executing": false
    }
   }
  }
 ],
 "metadata": {
  "kernelspec": {
   "display_name": "Python 3",
   "language": "python",
   "name": "python3"
  },
  "language_info": {
   "codemirror_mode": {
    "name": "ipython",
    "version": 2
   },
   "file_extension": ".py",
   "mimetype": "text/x-python",
   "name": "python",
   "nbconvert_exporter": "python",
   "pygments_lexer": "ipython2",
   "version": "2.7.6"
  },
  "pycharm": {
   "stem_cell": {
    "cell_type": "raw",
    "source": [],
    "metadata": {
     "collapsed": false
    }
   }
  }
 },
 "nbformat": 4,
 "nbformat_minor": 0
}