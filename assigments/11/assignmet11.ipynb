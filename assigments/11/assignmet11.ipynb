{
 "cells": [
  {
   "cell_type": "markdown",
   "source": [
    "# Assignment 11\n",
    "\n",
    "#### 1. Import all libraries"
   ],
   "metadata": {
    "collapsed": false,
    "pycharm": {
     "name": "#%% md\n"
    }
   }
  },
  {
   "cell_type": "code",
   "execution_count": 1,
   "outputs": [
    {
     "name": "stderr",
     "text": [
      "[nltk_data] Downloading package stopwords to C:\\Users\\AINS-\n",
      "[nltk_data]     SENGLY\\AppData\\Roaming\\nltk_data...\n",
      "[nltk_data]   Package stopwords is already up-to-date!\n",
      "[nltk_data] Downloading package wordnet to C:\\Users\\AINS-\n",
      "[nltk_data]     SENGLY\\AppData\\Roaming\\nltk_data...\n",
      "[nltk_data]   Package wordnet is already up-to-date!\n"
     ],
     "output_type": "stream"
    },
    {
     "name": "stdout",
     "text": [
      "Imported all libraries!\n"
     ],
     "output_type": "stream"
    }
   ],
   "source": [
    "import numpy as np\n",
    "import re\n",
    "import nltk\n",
    "from sklearn.datasets import load_files\n",
    "nltk.download('stopwords')\n",
    "nltk.download('wordnet')\n",
    "from nltk.corpus import stopwords\n",
    "from nltk.stem import WordNetLemmatizer\n",
    "from sklearn.feature_extraction.text import CountVectorizer\n",
    "from sklearn.feature_extraction.text import TfidfTransformer\n",
    "from sklearn.model_selection import train_test_split\n",
    "import seaborn as sn\n",
    "import pandas as pd\n",
    "import matplotlib.pyplot as plt\n",
    "\n",
    "print('Imported all libraries!')"
   ],
   "metadata": {
    "collapsed": false,
    "pycharm": {
     "name": "#%%\n",
     "is_executing": false
    }
   }
  },
  {
   "cell_type": "markdown",
   "source": [
    "#### 2. Read data"
   ],
   "metadata": {
    "collapsed": false,
    "pycharm": {
     "name": "#%% md\n"
    }
   }
  },
  {
   "cell_type": "code",
   "execution_count": 2,
   "outputs": [
    {
     "name": "stdout",
     "text": [
      "Finished Read Files!\n"
     ],
     "output_type": "stream"
    }
   ],
   "source": [
    "review_data = load_files(r\"movie_review\")\n",
    "X, y = review_data.data, review_data.target\n",
    "\n",
    "documents = []\n",
    "\n",
    "stemmer = WordNetLemmatizer()\n",
    "\n",
    "for sen in range(0, len(X)):\n",
    "    # Remove all the special characters\n",
    "    document = re.sub(r'\\W', ' ', str(X[sen]))\n",
    "    \n",
    "    # remove all single characters\n",
    "    document = re.sub(r'\\s+[a-zA-Z]\\s+', ' ', document)\n",
    "    \n",
    "    # Remove single characters from the start\n",
    "    document = re.sub(r'\\^[a-zA-Z]\\s+', ' ', document) \n",
    "    \n",
    "    # Substituting multiple spaces with single space\n",
    "    document = re.sub(r'\\s+', ' ', document, flags=re.I)\n",
    "    \n",
    "    # Removing prefixed 'b'\n",
    "    document = re.sub(r'^b\\s+', '', document)\n",
    "    \n",
    "    # Converting to Lowercase\n",
    "    document = document.lower()\n",
    "    \n",
    "    # Lemmatization\n",
    "    document = document.split()\n",
    "    document = [stemmer.lemmatize(word) for word in document]\n",
    "    document = ' '.join(document)\n",
    "    \n",
    "    documents.append(document)\n",
    "\n",
    "vectorizer = CountVectorizer(max_features=1500, min_df=5, max_df=0.7, stop_words=stopwords.words('english'))\n",
    "X = vectorizer.fit_transform(documents).toarray()\n",
    "\n",
    "tfidfconverter = TfidfTransformer()\n",
    "X = tfidfconverter.fit_transform(X).toarray()\n",
    "\n",
    "X_train, X_test, Y_train, Y_test = train_test_split(X, y, test_size=0.3, shuffle=False)\n",
    "\n",
    "print(\"Finished Read Files!\")\n"
   ],
   "metadata": {
    "collapsed": false,
    "pycharm": {
     "name": "#%%\n",
     "is_executing": false
    }
   }
  },
  {
   "cell_type": "code",
   "execution_count": 3,
   "outputs": [
    {
     "name": "stdout",
     "text": [
      "Defined sigmoid function!\n"
     ],
     "output_type": "stream"
    }
   ],
   "source": [
    "def sigmoid(x):\n",
    "    return 1/(1 + np.exp(-x))\n",
    "print('Defined sigmoid function!')"
   ],
   "metadata": {
    "collapsed": false,
    "pycharm": {
     "name": "#%%\n",
     "is_executing": false
    }
   }
  },
  {
   "cell_type": "markdown",
   "source": [
    "#### 3. Training model"
   ],
   "metadata": {
    "collapsed": false,
    "pycharm": {
     "name": "#%% md\n"
    }
   }
  },
  {
   "cell_type": "code",
   "execution_count": 4,
   "outputs": [
    {
     "name": "stdout",
     "text": [
      "iteration: 10 , Train Error: 0.5722, Train Acc: 0.8914\n",
      "              , Test  Error: 0.9468, Test  Acc: 0.7733\n",
      "iteration: 20 , Train Error: 0.1232, Train Acc: 0.9921\n",
      "              , Test  Error: 0.7397, Test  Acc: 0.8717\n",
      "iteration: 30 , Train Error: 0.0389, Train Acc: 1.0000\n",
      "              , Test  Error: 0.6654, Test  Acc: 0.8867\n",
      "iteration: 40 , Train Error: 0.0211, Train Acc: 1.0000\n",
      "              , Test  Error: 0.5918, Test  Acc: 0.9133\n",
      "iteration: 50 , Train Error: 0.0135, Train Acc: 1.0000\n",
      "              , Test  Error: 0.5277, Test  Acc: 0.9250\n",
      "iteration: 60 , Train Error: 0.0094, Train Acc: 1.0000\n",
      "              , Test  Error: 0.5322, Test  Acc: 0.9317\n",
      "iteration: 70 , Train Error: 0.0070, Train Acc: 1.0000\n",
      "              , Test  Error: 0.5452, Test  Acc: 0.9317\n",
      "iteration: 80 , Train Error: 0.0055, Train Acc: 1.0000\n",
      "              , Test  Error: 0.5503, Test  Acc: 0.9350\n",
      "iteration: 90 , Train Error: 0.0044, Train Acc: 1.0000\n",
      "              , Test  Error: 0.5660, Test  Acc: 0.9350\n",
      "iteration: 100 , Train Error: 0.0036, Train Acc: 1.0000\n",
      "              , Test  Error: 0.5795, Test  Acc: 0.9350\n",
      "Network trained!\n"
     ],
     "output_type": "stream"
    }
   ],
   "source": [
    "col_train_j = []\n",
    "col_test_j = []\n",
    "col_train_acc = []\n",
    "col_test_acc = []\n",
    "\n",
    "num_iter = 100\n",
    "num_train = 1400\n",
    "num_test = 600\n",
    "\n",
    "iput_len = 1500\n",
    "lay1_len = 150\n",
    "lay2_len = 15\n",
    "oput_len = 2\n",
    "\n",
    "u = np.random.normal(0,1,[iput_len+1,lay1_len])\n",
    "v = np.random.normal(0,1,[lay1_len+1,lay2_len])\n",
    "w = np.random.normal(0,1,[lay2_len+1,oput_len])\n",
    "\n",
    "for iteration in range(num_iter):\n",
    "    \n",
    "    sum_train_j = 0\n",
    "    sum_test_j = 0\n",
    "    sum_train_acc = 0\n",
    "    sum_test_acc = 0\n",
    "    \n",
    "    ################# Training ###################    \n",
    "    for itrain in range(num_train):\n",
    "    \n",
    "        input_v = np.append(X_train[itrain],1)\n",
    "        input_v = np.reshape(input_v, (-1, iput_len+1))\n",
    "        \n",
    "        actual_l = np.zeros(oput_len)\n",
    "        actual_l[Y_train[itrain]] = 1\n",
    "        \n",
    "        y_ = input_v.dot(u)\n",
    "        y = sigmoid(y_)\n",
    "        y = np.reshape(np.append(y, 1), (-1, len(np.append(y,1))))\n",
    "        \n",
    "        z_ = y.dot(v)\n",
    "        z = sigmoid(z_)\n",
    "        z = np.reshape(np.append(z, 1), (-1, len(np.append(z,1))))\n",
    "\n",
    "        h_ = z.dot(w)\n",
    "        h = sigmoid(h_)\n",
    "        \n",
    "        dl_dh = -actual_l/h + (1.0 - actual_l)/(1.0 - h)\n",
    "        dl_dh = np.reshape(dl_dh,(-1,oput_len))\n",
    "\n",
    "        dh_dhh = sigmoid(h_)*(1 - sigmoid(h_))\n",
    "        dh_dhh = np.reshape(dh_dhh,(-1,oput_len))\n",
    "\n",
    "        sigma = dl_dh*dh_dhh\n",
    "        sigma = np.reshape(sigma,(oput_len,-1))\n",
    "        \n",
    "        dl_dw = sigma.dot(z)\n",
    "        dl_dw = np.transpose(dl_dw)\n",
    "\n",
    "        w = w - 0.01*dl_dw\n",
    "        \n",
    "        ##############################################\n",
    "        \n",
    "        sigma_s = w.dot(sigma)  \n",
    "        sigma_s = sigma_s[:-1]\n",
    "\n",
    "        dz_dzz = sigmoid(z_)*(1 - sigmoid(z_))\n",
    "        dz_dzz = np.reshape(dz_dzz,(lay2_len,-1))\n",
    "\n",
    "        sigma_s_x_dz_dzz = sigma_s*dz_dzz\n",
    "\n",
    "        dl_dv = sigma_s_x_dz_dzz.dot(y)\n",
    "        dl_dv = np.transpose(dl_dv)\n",
    "\n",
    "        v = v - 0.01*dl_dv\n",
    "        \n",
    "        ###############################################\n",
    "        sigma_s1 = v.dot(sigma_s)\n",
    "        sigma_s1 = sigma_s1[:-1]\n",
    "\n",
    "        dy_dyy = sigmoid(y_)*(1 - sigmoid(y_))\n",
    "        dy_dyy = np.reshape(dy_dyy,(lay1_len,-1))\n",
    "\n",
    "        bb = sigma_s1*dy_dyy\n",
    "\n",
    "        dl_du = bb.dot(input_v)\n",
    "        dl_du = np.transpose(dl_du)\n",
    "\n",
    "        u = u - 0.01*dl_du\n",
    "        \n",
    "        sum_train_j += np.sum( -actual_l * np.log(h) - (1 - actual_l) * np.log(1 - h))\n",
    "\n",
    "        output_l = np.zeros(oput_len)\n",
    "        output_l[np.argmax(h)] = 1\n",
    "\n",
    "        dE_dh = actual_l - output_l\n",
    "\n",
    "        if np.sum(dE_dh**2) == 0:\n",
    "            sum_train_acc += 1\n",
    "    ################# Training ###################\n",
    "    \n",
    "    ################# Testing ###################    \n",
    "    for itest in range(num_test):\n",
    "\n",
    "        input_v = np.append(X_test[itest],1)\n",
    "        input_v = np.reshape(input_v, (-1, len(input_v)))\n",
    "\n",
    "        actual_l = np.zeros(oput_len)\n",
    "        actual_l[Y_test[itest]] = 1\n",
    "\n",
    "        y_ = input_v.dot(u)\n",
    "        y = sigmoid(y_)\n",
    "        y = np.reshape(np.append(y, 1), (-1, len(np.append(y,1))))\n",
    "\n",
    "        z_ = y.dot(v)\n",
    "        z = sigmoid(z_)\n",
    "        z = np.reshape(np.append(z, 1), (-1, len(np.append(z,1))))\n",
    "\n",
    "        h_ = z.dot(w)\n",
    "        h = sigmoid(h_) \n",
    "\n",
    "        sum_test_j += np.sum( -actual_l * np.log(h) - (1 - actual_l) * np.log(1 - h))\n",
    "        output_l = np.zeros(oput_len)\n",
    "        output_l[np.argmax(h)] = 1\n",
    "\n",
    "        dE_dh = actual_l - output_l\n",
    "        if np.sum(dE_dh**2) == 0:\n",
    "            sum_test_acc += 1\n",
    "    ################# Testing ###################\n",
    "    \n",
    "    ############# Validation ################\n",
    "    rand_int = np.random.randint(400)\n",
    "    \n",
    "    input_v = np.append(X_test[rand_int],1)\n",
    "    input_v = np.reshape(input_v, (-1, iput_len+1))\n",
    "    \n",
    "    actual_l = np.zeros(oput_len)\n",
    "    actual_l[Y_test[rand_int]] = 1\n",
    "    \n",
    "    y_ = input_v.dot(u)\n",
    "    y = sigmoid(y_)\n",
    "    y = np.reshape(np.append(y, 1), (-1, len(np.append(y,1))))\n",
    "    \n",
    "    z_ = y.dot(v)\n",
    "    z = sigmoid(z_)\n",
    "    z = np.reshape(np.append(z, 1), (-1, len(np.append(z,1))))\n",
    "    \n",
    "    h_ = z.dot(w)\n",
    "    h = sigmoid(h_)\n",
    "    \n",
    "    dl_dh = -actual_l/h + (1.0 - actual_l)/(1.0 - h)\n",
    "    dl_dh = np.reshape(dl_dh,(-1,oput_len))\n",
    "    \n",
    "    dh_dhh = sigmoid(h_)*(1 - sigmoid(h_))\n",
    "    dh_dhh = np.reshape(dh_dhh,(-1,oput_len))\n",
    "    \n",
    "    sigma = dl_dh*dh_dhh\n",
    "    sigma = np.reshape(sigma,(oput_len,-1))\n",
    "    \n",
    "    dl_dw = sigma.dot(z)\n",
    "    dl_dw = np.transpose(dl_dw)\n",
    "    \n",
    "    w = w - 0.01*dl_dw\n",
    "    \n",
    "    ##############################################\n",
    "    \n",
    "    sigma_s = w.dot(sigma)  \n",
    "    sigma_s = sigma_s[:-1]\n",
    "    \n",
    "    dz_dzz = sigmoid(z_)*(1 - sigmoid(z_))\n",
    "    dz_dzz = np.reshape(dz_dzz,(lay2_len,-1))\n",
    "    \n",
    "    sigma_s_x_dz_dzz = sigma_s*dz_dzz\n",
    "    \n",
    "    dl_dv = sigma_s_x_dz_dzz.dot(y)\n",
    "    dl_dv = np.transpose(dl_dv)\n",
    "    \n",
    "    v = v - 0.01*dl_dv\n",
    "    \n",
    "    ###############################################\n",
    "    sigma_s1 = v.dot(sigma_s)\n",
    "    sigma_s1 = sigma_s1[:-1]\n",
    "    \n",
    "    dy_dyy = sigmoid(y_)*(1 - sigmoid(y_))\n",
    "    dy_dyy = np.reshape(dy_dyy,(lay1_len,-1))\n",
    "    \n",
    "    bb = sigma_s1*dy_dyy\n",
    "    \n",
    "    dl_du = bb.dot(input_v)\n",
    "    dl_du = np.transpose(dl_du)\n",
    "    \n",
    "    u = u - 0.01*dl_du \n",
    "    ################### Valudation ############################\n",
    "           \n",
    "    col_train_j.append(sum_train_j/num_train)\n",
    "    col_test_j.append(sum_test_j/num_test)\n",
    "    col_train_acc.append(sum_train_acc/num_train)\n",
    "    col_test_acc.append(sum_test_acc/num_test)\n",
    "    \n",
    "    if np.mod(iteration+1,10) == 0:\n",
    "    \n",
    "        print('iteration: %2d , Train Error: %.4f, Train Acc: %.4f' % (iteration+1,sum_train_j/num_train,sum_train_acc/num_train))\n",
    "        print('              , Test  Error: %.4f, Test  Acc: %.4f' % (sum_test_j/num_test,sum_test_acc/num_test))\n",
    "        \n",
    "print('Network trained!')"
   ],
   "metadata": {
    "collapsed": false,
    "pycharm": {
     "name": "#%%\n",
     "is_executing": false
    }
   }
  },
  {
   "cell_type": "markdown",
   "source": [
    "#### 4. Plot the loss curve"
   ],
   "metadata": {
    "collapsed": false,
    "pycharm": {
     "name": "#%% md\n"
    }
   }
  },
  {
   "cell_type": "code",
   "execution_count": 5,
   "outputs": [
    {
     "data": {
      "text/plain": "<Figure size 576x576 with 1 Axes>",
      "image/png": "[encoded data removed]"
     },
     "metadata": {
      "needs_background": "light"
     },
     "output_type": "display_data"
    },
    {
     "name": "stdout",
     "text": [
      "\n",
      "\t Training Loss: 0.0036  Testing Loss: 0.5795\n"
     ],
     "output_type": "stream"
    }
   ],
   "source": [
    "plt.figure(figsize=(8,8))\n",
    "plt.plot(col_train_j,'b-')\n",
    "plt.plot(col_test_j,'r-')\n",
    "plt.title('Loss')\n",
    "plt.legend(['Train_Loss','Test_Loss'])\n",
    "plt.ylabel('Loss')\n",
    "plt.xlabel('Number of iteration')\n",
    "\n",
    "plt.grid()\n",
    "plt.show()\n",
    "\n",
    "print()\n",
    "print('\\t Training Loss: %.4f  Testing Loss: %.4f' % (col_train_j[-1], col_test_j[-1]))\n"
   ],
   "metadata": {
    "collapsed": false,
    "pycharm": {
     "name": "#%%\n",
     "is_executing": false
    }
   }
  },
  {
   "cell_type": "markdown",
   "source": [
    "#### 5. Plot the accuracy curve"
   ],
   "metadata": {
    "collapsed": false
   }
  },
  {
   "cell_type": "code",
   "execution_count": 6,
   "outputs": [
    {
     "data": {
      "text/plain": "<Figure size 576x576 with 1 Axes>",
      "image/png": "[encoded data removed]"
     },
     "metadata": {
      "needs_background": "light"
     },
     "output_type": "display_data"
    },
    {
     "name": "stdout",
     "text": [
      "\n",
      "\t Training Accurate: 1.0000  Testing Accurate: 0.9350\n"
     ],
     "output_type": "stream"
    }
   ],
   "source": [
    "plt.figure(figsize=(8,8))\n",
    "plt.plot(col_train_acc,'b-')\n",
    "plt.plot(col_test_acc,'r-')\n",
    "plt.grid()\n",
    "plt.title('Accurate')\n",
    "plt.legend(['Train_Accurate','Test_Accurate'])\n",
    "plt.ylabel('Accurate')\n",
    "plt.xlabel('Number of iteration')\n",
    "\n",
    "plt.show()\n",
    "\n",
    "print()\n",
    "print('\\t Training Accurate: %.4f  Testing Accurate: %.4f' % (col_train_acc[-1], col_test_acc[-1]))\n"
   ],
   "metadata": {
    "collapsed": false,
    "pycharm": {
     "name": "#%%\n",
     "is_executing": false
    }
   }
  },
  {
   "cell_type": "markdown",
   "source": [
    "#### 5. Plot the training confusion matrix"
   ],
   "metadata": {
    "collapsed": false
   }
  },
  {
   "cell_type": "code",
   "execution_count": 7,
   "outputs": [
    {
     "data": {
      "text/plain": "<Figure size 576x504 with 2 Axes>",
      "image/png": "[encoded data removed]"
     },
     "metadata": {
      "needs_background": "light"
     },
     "output_type": "display_data"
    }
   ],
   "source": [
    "count_tp = 0\n",
    "count_tn = 0\n",
    "count_fp = 0\n",
    "count_fn = 0\n",
    "\n",
    "for rand_int in range(1400):\n",
    "\n",
    "    input_v = np.append(X_train[rand_int],1)\n",
    "    input_v = np.reshape(input_v, (-1, len(input_v)))\n",
    "    \n",
    "    actual_l = np.zeros(oput_len)\n",
    "    actual_l[Y_train[rand_int]] = 1\n",
    "    \n",
    "    y_ = input_v.dot(u)\n",
    "    y = sigmoid(y_)\n",
    "    y = np.reshape(np.append(y, 1), (-1, len(np.append(y,1))))\n",
    "    \n",
    "    z_ = y.dot(v)\n",
    "    z = sigmoid(z_)\n",
    "    z = np.reshape(np.append(z, 1), (-1, len(np.append(z,1))))\n",
    "    \n",
    "    h_ = z.dot(w)\n",
    "    h = sigmoid(h_) \n",
    "    \n",
    "    output_l = np.zeros(oput_len)\n",
    "    output_l[np.argmax(h)] = 1\n",
    "    \n",
    "    dE_dh = actual_l - output_l\n",
    "      \n",
    "    if Y_train[rand_int] == 1 and np.sum(dE_dh**2) == 0: count_tp += 1\n",
    "    if Y_train[rand_int] == 1 and np.sum(dE_dh**2) != 0: count_fp += 1\n",
    "    if Y_train[rand_int] == 0 and np.sum(dE_dh**2) == 0: count_tn += 1\n",
    "    if Y_train[rand_int] == 0 and np.sum(dE_dh**2) != 0: count_fn += 1\n",
    "\n",
    "precision_tp = count_tp/(count_tp + count_fp)\n",
    "precision_tn = count_tn/(count_tn + count_fn)\n",
    "precision_fp = count_fp/(count_fp + count_tp)\n",
    "precision_fn = count_fn/(count_fn + count_tn)\n",
    "\n",
    "array = [[precision_tp,precision_fp],[precision_fn,precision_tn]]\n",
    "df_cm = pd.DataFrame(array, ['True','False'], ['Positive','Negative'])\n",
    "\n",
    "plt.figure(figsize = (8,7))\n",
    "plt.title('Confusion matrix of training data')\n",
    "sn.heatmap(df_cm, cmap=\"BuPu\", annot=True)\n",
    "plt.ylabel('Predicted Class')\n",
    "plt.xlabel('Actual Class')\n",
    "plt.show()"
   ],
   "metadata": {
    "collapsed": false,
    "pycharm": {
     "name": "#%%\n",
     "is_executing": false
    }
   }
  },
  {
   "cell_type": "markdown",
   "source": [
    "#### 6. Plot the testing confusion matrix\n"
   ],
   "metadata": {
    "collapsed": false
   }
  },
  {
   "cell_type": "code",
   "execution_count": 8,
   "outputs": [
    {
     "data": {
      "text/plain": "<Figure size 576x504 with 2 Axes>",
      "image/png": "[encoded data removed]"
     },
     "metadata": {
      "needs_background": "light"
     },
     "output_type": "display_data"
    }
   ],
   "source": [
    "count_tp = 0\n",
    "count_tn = 0\n",
    "count_fp = 0\n",
    "count_fn = 0\n",
    "\n",
    "for rand_int in range(600):\n",
    "\n",
    "    input_v = np.append(X_test[rand_int],1)\n",
    "    input_v = np.reshape(input_v, (-1, len(input_v)))\n",
    "    \n",
    "    actual_l = np.zeros(oput_len)\n",
    "    actual_l[Y_test[rand_int]] = 1\n",
    "    \n",
    "    y_ = input_v.dot(u)\n",
    "    y = sigmoid(y_)\n",
    "    y = np.reshape(np.append(y, 1), (-1, len(np.append(y,1))))\n",
    "    \n",
    "    z_ = y.dot(v)\n",
    "    z = sigmoid(z_)\n",
    "    z = np.reshape(np.append(z, 1), (-1, len(np.append(z,1))))\n",
    "    \n",
    "    h_ = z.dot(w)\n",
    "    h = sigmoid(h_) \n",
    "    \n",
    "    output_l = np.zeros(oput_len)\n",
    "    output_l[np.argmax(h)] = 1\n",
    "    \n",
    "    dE_dh = actual_l - output_l\n",
    "      \n",
    "    if Y_test[rand_int] == 1 and np.sum(dE_dh**2) == 0: count_tp += 1\n",
    "    if Y_test[rand_int] == 1 and np.sum(dE_dh**2) != 0: count_fp += 1\n",
    "    if Y_test[rand_int] == 0 and np.sum(dE_dh**2) == 0: count_tn += 1\n",
    "    if Y_test[rand_int] == 0 and np.sum(dE_dh**2) != 0: count_fn += 1\n",
    "\n",
    "precision_tp = count_tp/(count_tp + count_fp)\n",
    "precision_tn = count_tn/(count_tn + count_fn)\n",
    "precision_fp = count_fp/(count_fp + count_tp)\n",
    "precision_fn = count_fn/(count_fn + count_tn)\n",
    "\n",
    "array = [[precision_tp,precision_fp],[precision_fn,precision_tn]]\n",
    "\n",
    "df_cm = pd.DataFrame(array, ['True','False'], ['Positive','Negative'])\n",
    "\n",
    "plt.figure(figsize = (8,7))\n",
    "plt.title('Confusion matrix of testing data')\n",
    "sn.heatmap(df_cm, cmap=\"BuPu\", annot=True)\n",
    "plt.ylabel('Predicted Class')\n",
    "plt.xlabel('Actual Class')\n",
    "plt.show()"
   ],
   "metadata": {
    "collapsed": false,
    "pycharm": {
     "name": "#%% \n",
     "is_executing": false
    }
   }
  },
  {
   "cell_type": "markdown",
   "source": [
    "#### 7. Final result\n",
    "\n",
    "##### Training accuracy: $100 \\%$ \n",
    "##### Testing accuracy: $93 \\%$"
   ],
   "metadata": {
    "collapsed": false,
    "pycharm": {
     "name": "#%% md\n"
    }
   }
  }
 ],
 "metadata": {
  "kernelspec": {
   "display_name": "Python 3",
   "language": "python",
   "name": "python3"
  },
  "language_info": {
   "codemirror_mode": {
    "name": "ipython",
    "version": 2
   },
   "file_extension": ".py",
   "mimetype": "text/x-python",
   "name": "python",
   "nbconvert_exporter": "python",
   "pygments_lexer": "ipython2",
   "version": "2.7.6"
  },
  "pycharm": {
   "stem_cell": {
    "cell_type": "raw",
    "source": [],
    "metadata": {
     "collapsed": false
    }
   }
  }
 },
 "nbformat": 4,
 "nbformat_minor": 0
}