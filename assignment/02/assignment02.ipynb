{
 "cells": [
  {
   "cell_type": "code",
   "execution_count": 0,
   "metadata": {
    "collapsed": true,
    "pycharm": {
     "is_executing": false
    }
   },
   "outputs": [],
   "source": []
  },
  {
   "cell_type": "markdown",
   "source": [
    "# Assignment 02"
   ],
   "metadata": {
    "collapsed": false
   }
  },
  {
   "cell_type": "markdown",
   "source": [
    "### 1. Data\n",
    "\n",
    "- generate a set of $m$ point pairs $\\{ (x^{(i)}, y^{(i)}) \\}_{i = 1}^m$ from random perturbations using `random` function based on a linear function that you define\n",
    "- $\\hat{y} = a x + b$ where $a, b \\in \\mathbb{R}$\n",
    "- $y = \\hat{y} + n$ where $n \\sim \\mathcal{N}(0, \\sigma^2)$ is drawn from the normal distribution with mean $0$ and standard deviation $\\sigma$\n",
    "- choose $m=1000, a=2, b=1$ and $\\sigma=1$"
   ],
   "metadata": {
    "collapsed": false
   }
  },
  {
   "cell_type": "code",
   "execution_count": 1,
   "outputs": [],
   "source": [
    "import numpy as np\n",
    "import matplotlib.pyplot as plt\n",
    "\n",
    "m = 1000                \n",
    "sigma = 1               \n",
    "\n",
    "a = 2\n",
    "b = 1\n",
    "f = lambda x: a * x + b \n",
    "\n",
    "x = np.linspace(0,10,m) \n",
    "y_bar = []\n",
    "y = []\n",
    "\n",
    "for i in range(len(x)):\n",
    "  y_bar.append(f(x[i]))\n",
    "  y.append(f(x[i]) + np.random.normal(0,sigma**2))\n",
    "\n",
    "plt.plot(x,y,'ko', linewidth=0, markersize=1)\n",
    "plt.plot(x,y_bar,'b', linewidth=2)\n",
    "plt.xlabel(\"x-axis\")\n",
    "plt.ylabel(\"y-axis\")\n",
    "plt.show()\n",
    "\n",
    "\n"
   ],
   "metadata": {
    "collapsed": false,
    "pycharm": {
     "name": "#%%\n",
     "is_executing": false
    }
   }
  }
 ],
 "metadata": {
  "kernelspec": {
   "display_name": "Python 3",
   "language": "python",
   "name": "python3"
  },
  "language_info": {
   "codemirror_mode": {
    "name": "ipython",
    "version": 2
   },
   "file_extension": ".py",
   "mimetype": "text/x-python",
   "name": "python",
   "nbconvert_exporter": "python",
   "pygments_lexer": "ipython2",
   "version": "2.7.6"
  },
  "pycharm": {
   "stem_cell": {
    "cell_type": "raw",
    "source": [],
    "metadata": {
     "collapsed": false
    }
   }
  }
 },
 "nbformat": 4,
 "nbformat_minor": 0
}